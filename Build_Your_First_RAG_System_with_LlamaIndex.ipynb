{
  "nbformat": 4,
  "nbformat_minor": 0,
  "metadata": {
    "colab": {
      "provenance": []
    },
    "kernelspec": {
      "name": "python3",
      "display_name": "Python 3"
    },
    "language_info": {
      "name": "python"
    },
    "widgets": {
      "application/vnd.jupyter.widget-state+json": {
        "a71e8da398dc446a82c6cbe359b40a1c": {
          "model_module": "@jupyter-widgets/controls",
          "model_name": "HBoxModel",
          "model_module_version": "1.5.0",
          "state": {
            "_dom_classes": [],
            "_model_module": "@jupyter-widgets/controls",
            "_model_module_version": "1.5.0",
            "_model_name": "HBoxModel",
            "_view_count": null,
            "_view_module": "@jupyter-widgets/controls",
            "_view_module_version": "1.5.0",
            "_view_name": "HBoxView",
            "box_style": "",
            "children": [
              "IPY_MODEL_875110f59a7f4794b32a46af386ea028",
              "IPY_MODEL_0e03be6e72e3429c9727bfe00696b9e2",
              "IPY_MODEL_90fd7597df2347ceaffd6bdd8b8173ef"
            ],
            "layout": "IPY_MODEL_ebf0b2fe39e6497884e1881911759a67"
          }
        },
        "875110f59a7f4794b32a46af386ea028": {
          "model_module": "@jupyter-widgets/controls",
          "model_name": "HTMLModel",
          "model_module_version": "1.5.0",
          "state": {
            "_dom_classes": [],
            "_model_module": "@jupyter-widgets/controls",
            "_model_module_version": "1.5.0",
            "_model_name": "HTMLModel",
            "_view_count": null,
            "_view_module": "@jupyter-widgets/controls",
            "_view_module_version": "1.5.0",
            "_view_name": "HTMLView",
            "description": "",
            "description_tooltip": null,
            "layout": "IPY_MODEL_28f9ba73eb1843ef9f1e31502392c9de",
            "placeholder": "​",
            "style": "IPY_MODEL_80cd117e3f3141cfbc1819802c60b065",
            "value": "Loading dataset shards: 100%"
          }
        },
        "0e03be6e72e3429c9727bfe00696b9e2": {
          "model_module": "@jupyter-widgets/controls",
          "model_name": "FloatProgressModel",
          "model_module_version": "1.5.0",
          "state": {
            "_dom_classes": [],
            "_model_module": "@jupyter-widgets/controls",
            "_model_module_version": "1.5.0",
            "_model_name": "FloatProgressModel",
            "_view_count": null,
            "_view_module": "@jupyter-widgets/controls",
            "_view_module_version": "1.5.0",
            "_view_name": "ProgressView",
            "bar_style": "success",
            "description": "",
            "description_tooltip": null,
            "layout": "IPY_MODEL_19a82ee6c07045edaec7475d173a420d",
            "max": 41,
            "min": 0,
            "orientation": "horizontal",
            "style": "IPY_MODEL_36f65b7526f34feb90f6b73aaad21bea",
            "value": 41
          }
        },
        "90fd7597df2347ceaffd6bdd8b8173ef": {
          "model_module": "@jupyter-widgets/controls",
          "model_name": "HTMLModel",
          "model_module_version": "1.5.0",
          "state": {
            "_dom_classes": [],
            "_model_module": "@jupyter-widgets/controls",
            "_model_module_version": "1.5.0",
            "_model_name": "HTMLModel",
            "_view_count": null,
            "_view_module": "@jupyter-widgets/controls",
            "_view_module_version": "1.5.0",
            "_view_name": "HTMLView",
            "description": "",
            "description_tooltip": null,
            "layout": "IPY_MODEL_42ff6085fe8440bb93bd6347c548d0ac",
            "placeholder": "​",
            "style": "IPY_MODEL_c42bf013706e4db6b1c6f45a9cc25924",
            "value": " 41/41 [00:55&lt;00:00,  1.19s/it]"
          }
        },
        "ebf0b2fe39e6497884e1881911759a67": {
          "model_module": "@jupyter-widgets/base",
          "model_name": "LayoutModel",
          "model_module_version": "1.2.0",
          "state": {
            "_model_module": "@jupyter-widgets/base",
            "_model_module_version": "1.2.0",
            "_model_name": "LayoutModel",
            "_view_count": null,
            "_view_module": "@jupyter-widgets/base",
            "_view_module_version": "1.2.0",
            "_view_name": "LayoutView",
            "align_content": null,
            "align_items": null,
            "align_self": null,
            "border": null,
            "bottom": null,
            "display": null,
            "flex": null,
            "flex_flow": null,
            "grid_area": null,
            "grid_auto_columns": null,
            "grid_auto_flow": null,
            "grid_auto_rows": null,
            "grid_column": null,
            "grid_gap": null,
            "grid_row": null,
            "grid_template_areas": null,
            "grid_template_columns": null,
            "grid_template_rows": null,
            "height": null,
            "justify_content": null,
            "justify_items": null,
            "left": null,
            "margin": null,
            "max_height": null,
            "max_width": null,
            "min_height": null,
            "min_width": null,
            "object_fit": null,
            "object_position": null,
            "order": null,
            "overflow": null,
            "overflow_x": null,
            "overflow_y": null,
            "padding": null,
            "right": null,
            "top": null,
            "visibility": null,
            "width": null
          }
        },
        "28f9ba73eb1843ef9f1e31502392c9de": {
          "model_module": "@jupyter-widgets/base",
          "model_name": "LayoutModel",
          "model_module_version": "1.2.0",
          "state": {
            "_model_module": "@jupyter-widgets/base",
            "_model_module_version": "1.2.0",
            "_model_name": "LayoutModel",
            "_view_count": null,
            "_view_module": "@jupyter-widgets/base",
            "_view_module_version": "1.2.0",
            "_view_name": "LayoutView",
            "align_content": null,
            "align_items": null,
            "align_self": null,
            "border": null,
            "bottom": null,
            "display": null,
            "flex": null,
            "flex_flow": null,
            "grid_area": null,
            "grid_auto_columns": null,
            "grid_auto_flow": null,
            "grid_auto_rows": null,
            "grid_column": null,
            "grid_gap": null,
            "grid_row": null,
            "grid_template_areas": null,
            "grid_template_columns": null,
            "grid_template_rows": null,
            "height": null,
            "justify_content": null,
            "justify_items": null,
            "left": null,
            "margin": null,
            "max_height": null,
            "max_width": null,
            "min_height": null,
            "min_width": null,
            "object_fit": null,
            "object_position": null,
            "order": null,
            "overflow": null,
            "overflow_x": null,
            "overflow_y": null,
            "padding": null,
            "right": null,
            "top": null,
            "visibility": null,
            "width": null
          }
        },
        "80cd117e3f3141cfbc1819802c60b065": {
          "model_module": "@jupyter-widgets/controls",
          "model_name": "DescriptionStyleModel",
          "model_module_version": "1.5.0",
          "state": {
            "_model_module": "@jupyter-widgets/controls",
            "_model_module_version": "1.5.0",
            "_model_name": "DescriptionStyleModel",
            "_view_count": null,
            "_view_module": "@jupyter-widgets/base",
            "_view_module_version": "1.2.0",
            "_view_name": "StyleView",
            "description_width": ""
          }
        },
        "19a82ee6c07045edaec7475d173a420d": {
          "model_module": "@jupyter-widgets/base",
          "model_name": "LayoutModel",
          "model_module_version": "1.2.0",
          "state": {
            "_model_module": "@jupyter-widgets/base",
            "_model_module_version": "1.2.0",
            "_model_name": "LayoutModel",
            "_view_count": null,
            "_view_module": "@jupyter-widgets/base",
            "_view_module_version": "1.2.0",
            "_view_name": "LayoutView",
            "align_content": null,
            "align_items": null,
            "align_self": null,
            "border": null,
            "bottom": null,
            "display": null,
            "flex": null,
            "flex_flow": null,
            "grid_area": null,
            "grid_auto_columns": null,
            "grid_auto_flow": null,
            "grid_auto_rows": null,
            "grid_column": null,
            "grid_gap": null,
            "grid_row": null,
            "grid_template_areas": null,
            "grid_template_columns": null,
            "grid_template_rows": null,
            "height": null,
            "justify_content": null,
            "justify_items": null,
            "left": null,
            "margin": null,
            "max_height": null,
            "max_width": null,
            "min_height": null,
            "min_width": null,
            "object_fit": null,
            "object_position": null,
            "order": null,
            "overflow": null,
            "overflow_x": null,
            "overflow_y": null,
            "padding": null,
            "right": null,
            "top": null,
            "visibility": null,
            "width": null
          }
        },
        "36f65b7526f34feb90f6b73aaad21bea": {
          "model_module": "@jupyter-widgets/controls",
          "model_name": "ProgressStyleModel",
          "model_module_version": "1.5.0",
          "state": {
            "_model_module": "@jupyter-widgets/controls",
            "_model_module_version": "1.5.0",
            "_model_name": "ProgressStyleModel",
            "_view_count": null,
            "_view_module": "@jupyter-widgets/base",
            "_view_module_version": "1.2.0",
            "_view_name": "StyleView",
            "bar_color": null,
            "description_width": ""
          }
        },
        "42ff6085fe8440bb93bd6347c548d0ac": {
          "model_module": "@jupyter-widgets/base",
          "model_name": "LayoutModel",
          "model_module_version": "1.2.0",
          "state": {
            "_model_module": "@jupyter-widgets/base",
            "_model_module_version": "1.2.0",
            "_model_name": "LayoutModel",
            "_view_count": null,
            "_view_module": "@jupyter-widgets/base",
            "_view_module_version": "1.2.0",
            "_view_name": "LayoutView",
            "align_content": null,
            "align_items": null,
            "align_self": null,
            "border": null,
            "bottom": null,
            "display": null,
            "flex": null,
            "flex_flow": null,
            "grid_area": null,
            "grid_auto_columns": null,
            "grid_auto_flow": null,
            "grid_auto_rows": null,
            "grid_column": null,
            "grid_gap": null,
            "grid_row": null,
            "grid_template_areas": null,
            "grid_template_columns": null,
            "grid_template_rows": null,
            "height": null,
            "justify_content": null,
            "justify_items": null,
            "left": null,
            "margin": null,
            "max_height": null,
            "max_width": null,
            "min_height": null,
            "min_width": null,
            "object_fit": null,
            "object_position": null,
            "order": null,
            "overflow": null,
            "overflow_x": null,
            "overflow_y": null,
            "padding": null,
            "right": null,
            "top": null,
            "visibility": null,
            "width": null
          }
        },
        "c42bf013706e4db6b1c6f45a9cc25924": {
          "model_module": "@jupyter-widgets/controls",
          "model_name": "DescriptionStyleModel",
          "model_module_version": "1.5.0",
          "state": {
            "_model_module": "@jupyter-widgets/controls",
            "_model_module_version": "1.5.0",
            "_model_name": "DescriptionStyleModel",
            "_view_count": null,
            "_view_module": "@jupyter-widgets/base",
            "_view_module_version": "1.2.0",
            "_view_name": "StyleView",
            "description_width": ""
          }
        }
      }
    }
  },
  "cells": [
    {
      "cell_type": "code",
      "execution_count": null,
      "metadata": {
        "id": "StpDQwNRjPjq"
      },
      "outputs": [],
      "source": [
        "%%capture\n",
        "!pip install llama-index\n",
        "!pip install datasets"
      ]
    },
    {
      "cell_type": "code",
      "source": [
        "from google.colab import userdata\n",
        "OPENAI_API_KEY = userdata.get('OPENAI_API_KEY')"
      ],
      "metadata": {
        "id": "JVJzlHdVk_jD"
      },
      "execution_count": null,
      "outputs": []
    },
    {
      "cell_type": "code",
      "source": [
        "import os\n",
        "os.environ['OPENAI_API_KEY'] = OPENAI_API_KEY"
      ],
      "metadata": {
        "id": "6IwtbJ9Vjgq_"
      },
      "execution_count": null,
      "outputs": []
    },
    {
      "cell_type": "markdown",
      "source": [
        "## Download Data"
      ],
      "metadata": {
        "id": "uusXNjWomGOQ"
      }
    },
    {
      "cell_type": "code",
      "source": [
        "from datasets import load_dataset\n",
        "wiki_dataset = load_dataset(\"wikipedia\", \"20220301.en\")  # Specific English Wikipedia version"
      ],
      "metadata": {
        "colab": {
          "base_uri": "https://localhost:8080/",
          "height": 176,
          "referenced_widgets": [
            "a71e8da398dc446a82c6cbe359b40a1c",
            "875110f59a7f4794b32a46af386ea028",
            "0e03be6e72e3429c9727bfe00696b9e2",
            "90fd7597df2347ceaffd6bdd8b8173ef",
            "ebf0b2fe39e6497884e1881911759a67",
            "28f9ba73eb1843ef9f1e31502392c9de",
            "80cd117e3f3141cfbc1819802c60b065",
            "19a82ee6c07045edaec7475d173a420d",
            "36f65b7526f34feb90f6b73aaad21bea",
            "42ff6085fe8440bb93bd6347c548d0ac",
            "c42bf013706e4db6b1c6f45a9cc25924"
          ]
        },
        "id": "DzWlFx4TlE_R",
        "outputId": "54c60129-1690-48cc-8d75-611dc7c67d0d"
      },
      "execution_count": null,
      "outputs": [
        {
          "output_type": "stream",
          "name": "stderr",
          "text": [
            "/usr/local/lib/python3.11/dist-packages/huggingface_hub/utils/_auth.py:94: UserWarning: \n",
            "The secret `HF_TOKEN` does not exist in your Colab secrets.\n",
            "To authenticate with the Hugging Face Hub, create a token in your settings tab (https://huggingface.co/settings/tokens), set it as secret in your Google Colab and restart your session.\n",
            "You will be able to reuse this secret in all of your notebooks.\n",
            "Please note that authentication is recommended but still optional to access public models or datasets.\n",
            "  warnings.warn(\n"
          ]
        },
        {
          "output_type": "display_data",
          "data": {
            "text/plain": [
              "Loading dataset shards:   0%|          | 0/41 [00:00<?, ?it/s]"
            ],
            "application/vnd.jupyter.widget-view+json": {
              "version_major": 2,
              "version_minor": 0,
              "model_id": "a71e8da398dc446a82c6cbe359b40a1c"
            }
          },
          "metadata": {}
        }
      ]
    },
    {
      "cell_type": "markdown",
      "source": [
        "Selects the first 1000 articles from the Wikipedia dataset."
      ],
      "metadata": {
        "id": "5rInEehi3qHn"
      }
    },
    {
      "cell_type": "code",
      "source": [
        "wiki_data = wiki_dataset['train'].select(range(min(1000, len(wiki_dataset['train']))))"
      ],
      "metadata": {
        "id": "eRqXLctankNh"
      },
      "execution_count": null,
      "outputs": []
    },
    {
      "cell_type": "code",
      "source": [
        "wiki_data"
      ],
      "metadata": {
        "colab": {
          "base_uri": "https://localhost:8080/"
        },
        "id": "ywpFyvSFn4TJ",
        "outputId": "74bc240c-25a9-43f7-9171-ca76b797e080"
      },
      "execution_count": null,
      "outputs": [
        {
          "output_type": "execute_result",
          "data": {
            "text/plain": [
              "Dataset({\n",
              "    features: ['id', 'url', 'title', 'text'],\n",
              "    num_rows: 1000\n",
              "})"
            ]
          },
          "metadata": {},
          "execution_count": 6
        }
      ]
    },
    {
      "cell_type": "markdown",
      "source": [
        "## Step 1: Data Ingestion"
      ],
      "metadata": {
        "id": "LIyDzfBkmKMc"
      }
    },
    {
      "cell_type": "markdown",
      "source": [
        "### Data Loaders"
      ],
      "metadata": {
        "id": "kV33NvEgsCI-"
      }
    },
    {
      "cell_type": "markdown",
      "source": [
        "Processes Wikipedia articles, creates a corpus directory, and saves articles as text files."
      ],
      "metadata": {
        "id": "tfA_gULo3gCL"
      }
    },
    {
      "cell_type": "code",
      "source": [
        "\n",
        "from tqdm import tqdm\n",
        "import os\n",
        "\n",
        "\n",
        "output_dir = 'corpus'\n",
        "\n",
        "if not os.path.exists(output_dir):\n",
        "  os.makedirs(output_dir)\n",
        "\n",
        "documents = []\n",
        "\n",
        "for i, article in enumerate(tqdm(wiki_data)):\n",
        "  text = article['text']\n",
        "  title = article['title']\n",
        "\n",
        "  ref_title = title = \"\".join([c if c.isalnum() else \"_\" for c in title]).strip(\"_\")\n",
        "  ref_title = ref_title[:100] if len(ref_title) > 100 else ref_title\n",
        "\n",
        "  with open(os.path.join(output_dir, f\"{ref_title}.txt\"), \"w\", encoding=\"utf-8\") as f:\n",
        "    f.write(f\"Title: {title}\")\n",
        "    f.write(text)"
      ],
      "metadata": {
        "colab": {
          "base_uri": "https://localhost:8080/"
        },
        "id": "v9Vs7r-5nZzE",
        "outputId": "63031e80-098a-4581-a8e2-e00275e5fcda"
      },
      "execution_count": null,
      "outputs": [
        {
          "output_type": "stream",
          "name": "stderr",
          "text": [
            "100%|██████████| 1000/1000 [00:01<00:00, 774.95it/s]\n"
          ]
        }
      ]
    },
    {
      "cell_type": "code",
      "source": [
        "from llama_index.core import SimpleDirectoryReader"
      ],
      "metadata": {
        "id": "JHWI5Uj-on7i"
      },
      "execution_count": null,
      "outputs": []
    },
    {
      "cell_type": "markdown",
      "source": [
        "Loads documents from the corpus directory using `SimpleDirectoryReader`."
      ],
      "metadata": {
        "id": "90XwqJ7k3jX0"
      }
    },
    {
      "cell_type": "code",
      "source": [
        "documents = SimpleDirectoryReader(output_dir).load_data()"
      ],
      "metadata": {
        "id": "EmsJgiCPqkVd"
      },
      "execution_count": null,
      "outputs": []
    },
    {
      "cell_type": "code",
      "source": [
        "type(documents)"
      ],
      "metadata": {
        "colab": {
          "base_uri": "https://localhost:8080/"
        },
        "id": "RgLJz4Qrq2Q4",
        "outputId": "781257a2-a88f-461e-d69b-574f9dc3557c"
      },
      "execution_count": null,
      "outputs": [
        {
          "output_type": "execute_result",
          "data": {
            "text/plain": [
              "list"
            ]
          },
          "metadata": {},
          "execution_count": 15
        }
      ]
    },
    {
      "cell_type": "code",
      "source": [
        "len(documents)"
      ],
      "metadata": {
        "colab": {
          "base_uri": "https://localhost:8080/"
        },
        "id": "6OWky9KLq5M1",
        "outputId": "a7e4aad3-1708-4934-84a6-664d2cbd4547"
      },
      "execution_count": null,
      "outputs": [
        {
          "output_type": "execute_result",
          "data": {
            "text/plain": [
              "1000"
            ]
          },
          "metadata": {},
          "execution_count": 16
        }
      ]
    },
    {
      "cell_type": "code",
      "source": [
        "documents[0]"
      ],
      "metadata": {
        "colab": {
          "base_uri": "https://localhost:8080/"
        },
        "id": "E3hdUbZiq60q",
        "outputId": "c473233f-3902-4088-e1e4-85ba4e945a3b"
      },
      "execution_count": null,
      "outputs": [
        {
          "output_type": "execute_result",
          "data": {
            "text/plain": [
              "Document(id_='0d8038c0-aebb-4a2c-8d83-3be7b70b174d', embedding=None, metadata={'file_path': '/content/corpus/A.txt', 'file_name': 'A.txt', 'file_type': 'text/plain', 'file_size': 10427, 'creation_date': '2025-03-19', 'last_modified_date': '2025-03-19'}, excluded_embed_metadata_keys=['file_name', 'file_type', 'file_size', 'creation_date', 'last_modified_date', 'last_accessed_date'], excluded_llm_metadata_keys=['file_name', 'file_type', 'file_size', 'creation_date', 'last_modified_date', 'last_accessed_date'], relationships={}, metadata_template='{key}: {value}', metadata_separator='\\n', text_resource=MediaResource(embeddings=None, data=None, text='Title: AA, or a, is the first letter and the first vowel of the modern English alphabet and the ISO basic Latin alphabet. Its name in English is a (pronounced ), plural aes. It is similar in shape to the Ancient Greek letter alpha, from which it derives. The uppercase version consists of the two slanting sides of a triangle, crossed in the middle by a horizontal bar. The lowercase version can be written in two forms: the double-storey a and single-storey ɑ. The latter is commonly used in handwriting and fonts based on it, especially fonts intended to be read by children, and is also found in italic type.\\n\\nIn the English grammar, \"a\", and its variant \"an\", are indefinite articles.\\n\\nHistory\\n\\nThe earliest certain ancestor of \"A\" is aleph (also written \\'aleph), the first letter of the Phoenician alphabet, which consisted entirely of consonants (for that reason, it is also called an abjad to distinguish it from a true alphabet). In turn, the ancestor of aleph may have been a pictogram of an ox head in proto-Sinaitic script influenced by Egyptian hieroglyphs, styled as a triangular head with two horns extended.\\n\\nWhen the ancient Greeks adopted the alphabet, they had no use for a letter to represent the glottal stop—the consonant sound that the letter denoted in Phoenician and other Semitic languages, and that was the first phoneme of the Phoenician pronunciation of the letter—so they used their version of the sign to represent the vowel , and called it by the similar name of alpha. In the earliest Greek inscriptions after the Greek Dark Ages, dating to the 8th century BC, the letter rests upon its side, but in the Greek alphabet of later times it generally resembles the modern capital letter, although many local varieties can be distinguished by the shortening of one leg, or by the angle at which the cross line is set.\\n\\nThe Etruscans brought the Greek alphabet to their civilization in the Italian Peninsula and left the letter unchanged. The Romans later adopted the Etruscan alphabet to write the Latin language, and the resulting letter was preserved in the Latin alphabet that would come to be used to write many languages, including English.\\n\\nTypographic variants\\n\\nDuring Roman times, there were many variant forms of the letter \"A\". First was the monumental or lapidary style, which was used when inscribing on stone or other \"permanent\" media. There was also a cursive style used for everyday or utilitarian writing, which was done on more perishable surfaces. Due to the \"perishable\" nature of these surfaces, there are not as many examples of this style as there are of the monumental, but there are still many surviving examples of different types of cursive, such as majuscule cursive, minuscule cursive, and semicursive minuscule. Variants also existed that were intermediate between the monumental and cursive styles. The known variants include the early semi-uncial, the uncial, and the later semi-uncial.\\n\\nAt the end of the Roman Empire (5th century AD), several variants of the cursive minuscule developed through Western Europe. Among these were the semicursive minuscule of Italy, the Merovingian script in France, the Visigothic script in Spain, and the Insular or Anglo-Irish semi-uncial or Anglo-Saxon majuscule of Great Britain. By the 9th century, the Caroline script, which was very similar to the present-day form, was the principal form used in book-making, before the advent of the printing press. This form was derived through a combining of prior forms.\\n\\n15th-century Italy saw the formation of the two main variants that are known today. These variants, the Italic and Roman forms, were derived from the Caroline Script version. The Italic form, also called script a, is used in most current handwriting; it consists of a circle and vertical stroke on the right (\"ɑ\"). This slowly developed from the fifth-century form resembling the Greek letter tau in the hands of medieval Irish and English writers. The Roman form is used in most printed material; it consists of a small loop with an arc over it (\"a\"). Both derive from the majuscule (capital) form. In Greek handwriting, it was common to join the left leg and horizontal stroke into a single loop, as demonstrated by the uncial version shown. Many fonts then made the right leg vertical. In some of these, the serif that began the right leg stroke developed into an arc, resulting in the printed form, while in others it was dropped, resulting in the modern handwritten form. Graphic designers refer to the Italic and Roman forms as \"single decker a\" and \"double decker a\" respectively.\\n\\nItalic type is commonly used to mark emphasis or more generally to distinguish one part of a text from the rest (set in Roman type). There are some other cases aside from italic type where script a (\"ɑ\"), also called Latin alpha, is used in contrast with Latin \"a\" (such as in the International Phonetic Alphabet).\\n\\nUse in writing systems\\n\\nEnglish\\n\\nIn modern English orthography, the letter  represents at least seven different vowel sounds:\\nthe near-open front unrounded vowel  as in pad;\\nthe open back unrounded vowel  as in father, which is closer to its original Latin and Greek sound;\\nthe diphthong  as in ace and major (usually when  is followed by one, or occasionally two, consonants and then another vowel letter) – this results from Middle English lengthening followed by the Great Vowel Shift;\\nthe modified form of the above sound that occurs before , as in square and Mary;\\nthe rounded vowel of water;\\nthe shorter rounded vowel (not present in General American) in was and what;\\na schwa, in many unstressed syllables, as in about, comma, solar.\\n\\nThe double  sequence does not occur in native English words, but is found in some words derived from foreign languages such as Aaron and aardvark. However,  occurs in many common digraphs, all with their own sound or sounds, particularly , , , ,  and .\\n\\n is the third-most-commonly used letter in English (after  and ) and French, the second most common in Spanish, and the most common in Portuguese. About 8.167% of letters used in English texts tend to be ; the number is around 7.636% in French, 11.525% in Spanish, and 14.634% for Portuguese.\\n\\nOther languages\\nIn most languages that use the Latin alphabet,  denotes an open unrounded vowel, such as , , or . An exception is Saanich, in which  (and the glyph Á) stands for a close-mid front unrounded vowel .\\n\\nOther systems\\n\\nIn phonetic and phonemic notation:\\nin the International Phonetic Alphabet,  is used for the open front unrounded vowel,  is used for the open central unrounded vowel, and  is used for the open back unrounded vowel.\\nin X-SAMPA,  is used for the open front unrounded vowel and  is used for the open back unrounded vowel.\\n\\nOther uses\\n\\nIn algebra, the letter a along with various other letters of the alphabet is often used to denote a variable, with various conventional meanings in different areas of mathematics. Moreover, in 1637, René Descartes \"invented the convention of representing unknowns in equations by x, y, and z, and knowns by a, b, and c\", and this convention is still often followed, especially in elementary algebra.\\n\\nIn geometry, capital A, B, C etc. are used to denote segments, lines, rays, etc. A capital A is also typically used as one of the letters to represent an angle in a triangle, the lowercase a representing the side opposite angle A.\\n\\n\"A\" is often used to denote something or someone of a better or more prestigious quality or status: A-, A or A+, the best grade that can be assigned by teachers for students\\' schoolwork; \"A grade\" for clean restaurants; A-list celebrities, etc. Such associations can have a motivating effect, as exposure to the letter A has been found to improve performance, when compared with other letters.\\n\\n\"A\" is used as a prefix on some words, such as asymmetry, to mean \"not\" or \"without\" (from Greek).\\n\\nIn English grammar, \"a\", and its variant \"an\", is an indefinite article, used to introduce noun phrases.\\n\\nFinally, the letter A is used to denote size, as in a narrow size shoe, or a small cup size in a brassiere.\\n\\nRelated characters\\n\\nDescendants and related characters in the Latin alphabet\\nÆ æ : Latin AE ligature\\nA with diacritics: Å å Ǻ ǻ Ḁ ḁ ẚ Ă ă Ặ ặ Ắ ắ Ằ ằ Ẳ ẳ Ẵ ẵ Ȃ ȃ Â â Ậ ậ Ấ ấ Ầ ầ Ẫ ẫ Ẩ ẩ Ả ả Ǎ ǎ Ⱥ ⱥ Ȧ ȧ Ǡ ǡ Ạ ạ Ä ä Ǟ ǟ À à Ȁ ȁ Á á Ā ā Ā̀ ā̀ Ã ã Ą ą Ą́ ą́ Ą̃ ą̃ A̲ a̲ ᶏ\\nPhonetic alphabet symbols related to A (the International Phonetic Alphabet only uses lowercase, but uppercase forms are used in some other writing systems): \\nⱭ ɑ : Latin letter alpha / script A, which represents an open back unrounded vowel in the IPA\\nᶐ : Latin small letter alpha with retroflex hook\\nⱯ ɐ : Turned A, which represents a near-open central vowel in the IPA\\nΛ ʌ : Turned V (also called a wedge, a caret, or a hat), which represents an open-mid back unrounded vowel in the IPA\\nⱰ ɒ : Turned alpha / script A, which represents an open back rounded vowel in the IPA\\nᶛ : Modifier letter small turned alpha\\nᴀ : Small capital A, an obsolete or non-standard symbol in the International Phonetic Alphabet used to represent various sounds (mainly open vowels)\\nA a ᵄ : Modifier letters are used in the Uralic Phonetic Alphabet (UPA) (sometimes encoded with Unicode subscripts and superscripts)\\na : Subscript small a is used in Indo-European studies\\nꬱ : Small letter a reversed-schwa is used in the Teuthonista phonetic transcription system\\nꞺ ꞻ : Glottal A, used in the transliteration of Ugaritic\\n\\nDerived signs, symbols and abbreviations\\nª : an ordinal indicator\\nÅ : Ångström sign\\n∀ : a turned capital letter A, used in predicate logic to specify universal quantification (\"for all\")\\n@ : At sign\\n₳ : Argentine austral\\n\\nAncestors and siblings in other alphabets\\n\\n𐤀 : Semitic letter Aleph, from which the following symbols originally derive\\nΑ α : Greek letter Alpha, from which the following letters derive\\nА а : Cyrillic letter A\\n : Coptic letter Alpha\\n𐌀 : Old Italic A, which is the ancestor of modern Latin A\\n : Runic letter ansuz, which probably derives from old Italic A\\n : Gothic letter aza/asks\\nԱ ա : Armenian letter Ayb\\n\\nComputing codes\\n\\n 1\\n\\nOther representations\\n\\nNotes\\n\\nFootnotes\\n\\nReferences\\n\\nExternal links\\n\\n History of the Alphabet\\n \\n\\nISO basic Latin letters\\nVowel letters', path=None, url=None, mimetype=None), image_resource=None, audio_resource=None, video_resource=None, text_template='{metadata_str}\\n\\n{content}')"
            ]
          },
          "metadata": {},
          "execution_count": 17
        }
      ]
    },
    {
      "cell_type": "code",
      "source": [
        "# get id of first document\n",
        "documents[0].id_"
      ],
      "metadata": {
        "colab": {
          "base_uri": "https://localhost:8080/",
          "height": 35
        },
        "id": "k6kWoebsq8MQ",
        "outputId": "15ed619b-4c2d-4f9d-c689-8a11b64b89b5"
      },
      "execution_count": null,
      "outputs": [
        {
          "output_type": "execute_result",
          "data": {
            "text/plain": [
              "'0d8038c0-aebb-4a2c-8d83-3be7b70b174d'"
            ],
            "application/vnd.google.colaboratory.intrinsic+json": {
              "type": "string"
            }
          },
          "metadata": {},
          "execution_count": 18
        }
      ]
    },
    {
      "cell_type": "code",
      "source": [
        "documents[0].doc_id"
      ],
      "metadata": {
        "colab": {
          "base_uri": "https://localhost:8080/",
          "height": 35
        },
        "id": "mm-FXGLFrDRM",
        "outputId": "40247854-e071-44d4-ca7c-6f9adc94e36d"
      },
      "execution_count": null,
      "outputs": [
        {
          "output_type": "execute_result",
          "data": {
            "text/plain": [
              "'0d8038c0-aebb-4a2c-8d83-3be7b70b174d'"
            ],
            "application/vnd.google.colaboratory.intrinsic+json": {
              "type": "string"
            }
          },
          "metadata": {},
          "execution_count": 19
        }
      ]
    },
    {
      "cell_type": "code",
      "source": [
        "documents[0].metadata"
      ],
      "metadata": {
        "colab": {
          "base_uri": "https://localhost:8080/"
        },
        "id": "ISQT_7EVrFE5",
        "outputId": "16fc7b4e-d28b-42b3-a217-b603d5ea417c"
      },
      "execution_count": null,
      "outputs": [
        {
          "output_type": "execute_result",
          "data": {
            "text/plain": [
              "{'file_path': '/content/corpus/A.txt',\n",
              " 'file_name': 'A.txt',\n",
              " 'file_type': 'text/plain',\n",
              " 'file_size': 10427,\n",
              " 'creation_date': '2025-03-19',\n",
              " 'last_modified_date': '2025-03-19'}"
            ]
          },
          "metadata": {},
          "execution_count": 20
        }
      ]
    },
    {
      "cell_type": "code",
      "source": [
        "# get the text content from the first document\n",
        "print(documents[0].text)"
      ],
      "metadata": {
        "colab": {
          "base_uri": "https://localhost:8080/"
        },
        "id": "rCK3X1zbrK7A",
        "outputId": "f211fb4d-23f8-4106-979a-05b4949b3d1d"
      },
      "execution_count": null,
      "outputs": [
        {
          "output_type": "stream",
          "name": "stdout",
          "text": [
            "Title: AA, or a, is the first letter and the first vowel of the modern English alphabet and the ISO basic Latin alphabet. Its name in English is a (pronounced ), plural aes. It is similar in shape to the Ancient Greek letter alpha, from which it derives. The uppercase version consists of the two slanting sides of a triangle, crossed in the middle by a horizontal bar. The lowercase version can be written in two forms: the double-storey a and single-storey ɑ. The latter is commonly used in handwriting and fonts based on it, especially fonts intended to be read by children, and is also found in italic type.\n",
            "\n",
            "In the English grammar, \"a\", and its variant \"an\", are indefinite articles.\n",
            "\n",
            "History\n",
            "\n",
            "The earliest certain ancestor of \"A\" is aleph (also written 'aleph), the first letter of the Phoenician alphabet, which consisted entirely of consonants (for that reason, it is also called an abjad to distinguish it from a true alphabet). In turn, the ancestor of aleph may have been a pictogram of an ox head in proto-Sinaitic script influenced by Egyptian hieroglyphs, styled as a triangular head with two horns extended.\n",
            "\n",
            "When the ancient Greeks adopted the alphabet, they had no use for a letter to represent the glottal stop—the consonant sound that the letter denoted in Phoenician and other Semitic languages, and that was the first phoneme of the Phoenician pronunciation of the letter—so they used their version of the sign to represent the vowel , and called it by the similar name of alpha. In the earliest Greek inscriptions after the Greek Dark Ages, dating to the 8th century BC, the letter rests upon its side, but in the Greek alphabet of later times it generally resembles the modern capital letter, although many local varieties can be distinguished by the shortening of one leg, or by the angle at which the cross line is set.\n",
            "\n",
            "The Etruscans brought the Greek alphabet to their civilization in the Italian Peninsula and left the letter unchanged. The Romans later adopted the Etruscan alphabet to write the Latin language, and the resulting letter was preserved in the Latin alphabet that would come to be used to write many languages, including English.\n",
            "\n",
            "Typographic variants\n",
            "\n",
            "During Roman times, there were many variant forms of the letter \"A\". First was the monumental or lapidary style, which was used when inscribing on stone or other \"permanent\" media. There was also a cursive style used for everyday or utilitarian writing, which was done on more perishable surfaces. Due to the \"perishable\" nature of these surfaces, there are not as many examples of this style as there are of the monumental, but there are still many surviving examples of different types of cursive, such as majuscule cursive, minuscule cursive, and semicursive minuscule. Variants also existed that were intermediate between the monumental and cursive styles. The known variants include the early semi-uncial, the uncial, and the later semi-uncial.\n",
            "\n",
            "At the end of the Roman Empire (5th century AD), several variants of the cursive minuscule developed through Western Europe. Among these were the semicursive minuscule of Italy, the Merovingian script in France, the Visigothic script in Spain, and the Insular or Anglo-Irish semi-uncial or Anglo-Saxon majuscule of Great Britain. By the 9th century, the Caroline script, which was very similar to the present-day form, was the principal form used in book-making, before the advent of the printing press. This form was derived through a combining of prior forms.\n",
            "\n",
            "15th-century Italy saw the formation of the two main variants that are known today. These variants, the Italic and Roman forms, were derived from the Caroline Script version. The Italic form, also called script a, is used in most current handwriting; it consists of a circle and vertical stroke on the right (\"ɑ\"). This slowly developed from the fifth-century form resembling the Greek letter tau in the hands of medieval Irish and English writers. The Roman form is used in most printed material; it consists of a small loop with an arc over it (\"a\"). Both derive from the majuscule (capital) form. In Greek handwriting, it was common to join the left leg and horizontal stroke into a single loop, as demonstrated by the uncial version shown. Many fonts then made the right leg vertical. In some of these, the serif that began the right leg stroke developed into an arc, resulting in the printed form, while in others it was dropped, resulting in the modern handwritten form. Graphic designers refer to the Italic and Roman forms as \"single decker a\" and \"double decker a\" respectively.\n",
            "\n",
            "Italic type is commonly used to mark emphasis or more generally to distinguish one part of a text from the rest (set in Roman type). There are some other cases aside from italic type where script a (\"ɑ\"), also called Latin alpha, is used in contrast with Latin \"a\" (such as in the International Phonetic Alphabet).\n",
            "\n",
            "Use in writing systems\n",
            "\n",
            "English\n",
            "\n",
            "In modern English orthography, the letter  represents at least seven different vowel sounds:\n",
            "the near-open front unrounded vowel  as in pad;\n",
            "the open back unrounded vowel  as in father, which is closer to its original Latin and Greek sound;\n",
            "the diphthong  as in ace and major (usually when  is followed by one, or occasionally two, consonants and then another vowel letter) – this results from Middle English lengthening followed by the Great Vowel Shift;\n",
            "the modified form of the above sound that occurs before , as in square and Mary;\n",
            "the rounded vowel of water;\n",
            "the shorter rounded vowel (not present in General American) in was and what;\n",
            "a schwa, in many unstressed syllables, as in about, comma, solar.\n",
            "\n",
            "The double  sequence does not occur in native English words, but is found in some words derived from foreign languages such as Aaron and aardvark. However,  occurs in many common digraphs, all with their own sound or sounds, particularly , , , ,  and .\n",
            "\n",
            " is the third-most-commonly used letter in English (after  and ) and French, the second most common in Spanish, and the most common in Portuguese. About 8.167% of letters used in English texts tend to be ; the number is around 7.636% in French, 11.525% in Spanish, and 14.634% for Portuguese.\n",
            "\n",
            "Other languages\n",
            "In most languages that use the Latin alphabet,  denotes an open unrounded vowel, such as , , or . An exception is Saanich, in which  (and the glyph Á) stands for a close-mid front unrounded vowel .\n",
            "\n",
            "Other systems\n",
            "\n",
            "In phonetic and phonemic notation:\n",
            "in the International Phonetic Alphabet,  is used for the open front unrounded vowel,  is used for the open central unrounded vowel, and  is used for the open back unrounded vowel.\n",
            "in X-SAMPA,  is used for the open front unrounded vowel and  is used for the open back unrounded vowel.\n",
            "\n",
            "Other uses\n",
            "\n",
            "In algebra, the letter a along with various other letters of the alphabet is often used to denote a variable, with various conventional meanings in different areas of mathematics. Moreover, in 1637, René Descartes \"invented the convention of representing unknowns in equations by x, y, and z, and knowns by a, b, and c\", and this convention is still often followed, especially in elementary algebra.\n",
            "\n",
            "In geometry, capital A, B, C etc. are used to denote segments, lines, rays, etc. A capital A is also typically used as one of the letters to represent an angle in a triangle, the lowercase a representing the side opposite angle A.\n",
            "\n",
            "\"A\" is often used to denote something or someone of a better or more prestigious quality or status: A-, A or A+, the best grade that can be assigned by teachers for students' schoolwork; \"A grade\" for clean restaurants; A-list celebrities, etc. Such associations can have a motivating effect, as exposure to the letter A has been found to improve performance, when compared with other letters.\n",
            "\n",
            "\"A\" is used as a prefix on some words, such as asymmetry, to mean \"not\" or \"without\" (from Greek).\n",
            "\n",
            "In English grammar, \"a\", and its variant \"an\", is an indefinite article, used to introduce noun phrases.\n",
            "\n",
            "Finally, the letter A is used to denote size, as in a narrow size shoe, or a small cup size in a brassiere.\n",
            "\n",
            "Related characters\n",
            "\n",
            "Descendants and related characters in the Latin alphabet\n",
            "Æ æ : Latin AE ligature\n",
            "A with diacritics: Å å Ǻ ǻ Ḁ ḁ ẚ Ă ă Ặ ặ Ắ ắ Ằ ằ Ẳ ẳ Ẵ ẵ Ȃ ȃ Â â Ậ ậ Ấ ấ Ầ ầ Ẫ ẫ Ẩ ẩ Ả ả Ǎ ǎ Ⱥ ⱥ Ȧ ȧ Ǡ ǡ Ạ ạ Ä ä Ǟ ǟ À à Ȁ ȁ Á á Ā ā Ā̀ ā̀ Ã ã Ą ą Ą́ ą́ Ą̃ ą̃ A̲ a̲ ᶏ\n",
            "Phonetic alphabet symbols related to A (the International Phonetic Alphabet only uses lowercase, but uppercase forms are used in some other writing systems): \n",
            "Ɑ ɑ : Latin letter alpha / script A, which represents an open back unrounded vowel in the IPA\n",
            "ᶐ : Latin small letter alpha with retroflex hook\n",
            "Ɐ ɐ : Turned A, which represents a near-open central vowel in the IPA\n",
            "Λ ʌ : Turned V (also called a wedge, a caret, or a hat), which represents an open-mid back unrounded vowel in the IPA\n",
            "Ɒ ɒ : Turned alpha / script A, which represents an open back rounded vowel in the IPA\n",
            "ᶛ : Modifier letter small turned alpha\n",
            "ᴀ : Small capital A, an obsolete or non-standard symbol in the International Phonetic Alphabet used to represent various sounds (mainly open vowels)\n",
            "A a ᵄ : Modifier letters are used in the Uralic Phonetic Alphabet (UPA) (sometimes encoded with Unicode subscripts and superscripts)\n",
            "a : Subscript small a is used in Indo-European studies\n",
            "ꬱ : Small letter a reversed-schwa is used in the Teuthonista phonetic transcription system\n",
            "Ꞻ ꞻ : Glottal A, used in the transliteration of Ugaritic\n",
            "\n",
            "Derived signs, symbols and abbreviations\n",
            "ª : an ordinal indicator\n",
            "Å : Ångström sign\n",
            "∀ : a turned capital letter A, used in predicate logic to specify universal quantification (\"for all\")\n",
            "@ : At sign\n",
            "₳ : Argentine austral\n",
            "\n",
            "Ancestors and siblings in other alphabets\n",
            "\n",
            "𐤀 : Semitic letter Aleph, from which the following symbols originally derive\n",
            "Α α : Greek letter Alpha, from which the following letters derive\n",
            "А а : Cyrillic letter A\n",
            " : Coptic letter Alpha\n",
            "𐌀 : Old Italic A, which is the ancestor of modern Latin A\n",
            " : Runic letter ansuz, which probably derives from old Italic A\n",
            " : Gothic letter aza/asks\n",
            "Ա ա : Armenian letter Ayb\n",
            "\n",
            "Computing codes\n",
            "\n",
            " 1\n",
            "\n",
            "Other representations\n",
            "\n",
            "Notes\n",
            "\n",
            "Footnotes\n",
            "\n",
            "References\n",
            "\n",
            "External links\n",
            "\n",
            " History of the Alphabet\n",
            " \n",
            "\n",
            "ISO basic Latin letters\n",
            "Vowel letters\n"
          ]
        }
      ]
    },
    {
      "cell_type": "markdown",
      "source": [
        "### Embedding Model"
      ],
      "metadata": {
        "id": "pFzbHfgKrVlD"
      }
    },
    {
      "cell_type": "code",
      "source": [
        "# embedding model\n",
        "from llama_index.embeddings.openai import OpenAIEmbedding"
      ],
      "metadata": {
        "id": "qezvEMz4rQaV"
      },
      "execution_count": null,
      "outputs": []
    },
    {
      "cell_type": "code",
      "source": [
        "# initialize embedding model\n",
        "embed_model = OpenAIEmbedding(model=\"text-embedding-3-large\")"
      ],
      "metadata": {
        "id": "anQDf4BiriOb"
      },
      "execution_count": null,
      "outputs": []
    },
    {
      "cell_type": "markdown",
      "source": [
        "### LLM"
      ],
      "metadata": {
        "id": "VgLmIBBOrs4H"
      }
    },
    {
      "cell_type": "code",
      "source": [
        "from llama_index.llms.openai import OpenAI"
      ],
      "metadata": {
        "id": "nQEnF0fQrr-p"
      },
      "execution_count": null,
      "outputs": []
    },
    {
      "cell_type": "code",
      "source": [
        "# initialize large language model\n",
        "llm = OpenAI(model='gpt-4')"
      ],
      "metadata": {
        "id": "GECB-dOJrztm"
      },
      "execution_count": null,
      "outputs": []
    },
    {
      "cell_type": "markdown",
      "source": [
        "## Step 2: Indexing"
      ],
      "metadata": {
        "id": "s3gQ8Ng-r7Nu"
      }
    },
    {
      "cell_type": "code",
      "source": [
        "from llama_index.core import VectorStoreIndex"
      ],
      "metadata": {
        "id": "C4Odao6er6Ym"
      },
      "execution_count": null,
      "outputs": []
    },
    {
      "cell_type": "code",
      "source": [
        "# create an index from the documents using the embedding model and LLM\n",
        "\n",
        "index = VectorStoreIndex.from_documents(\n",
        "                          documents,\n",
        "                          embed_model=embed_model\n",
        "                      )"
      ],
      "metadata": {
        "id": "yxUOswqUsJXw"
      },
      "execution_count": null,
      "outputs": []
    },
    {
      "cell_type": "markdown",
      "source": [
        "## Step 3: Retrieval"
      ],
      "metadata": {
        "id": "aOvxTcSRscfG"
      }
    },
    {
      "cell_type": "code",
      "source": [
        "retriever = index.as_retriever()"
      ],
      "metadata": {
        "id": "TGcLDItusa1A"
      },
      "execution_count": null,
      "outputs": []
    },
    {
      "cell_type": "code",
      "source": [
        "retrieved_nodes = retriever.retrieve(\"Can an infinite extension be algebraic? Give an example.\")"
      ],
      "metadata": {
        "id": "VqghR2tDskdW"
      },
      "execution_count": null,
      "outputs": []
    },
    {
      "cell_type": "code",
      "source": [
        "retrieved_nodes[0].metadata"
      ],
      "metadata": {
        "colab": {
          "base_uri": "https://localhost:8080/"
        },
        "id": "q--x6m2rs5mX",
        "outputId": "ee89a319-07b1-4ba7-c7e3-0aa030d88630"
      },
      "execution_count": null,
      "outputs": [
        {
          "output_type": "execute_result",
          "data": {
            "text/plain": [
              "{'file_path': '/content/corpus/Algebraic_extension.txt',\n",
              " 'file_name': 'Algebraic_extension.txt',\n",
              " 'file_type': 'text/plain',\n",
              " 'file_size': 3022,\n",
              " 'creation_date': '2025-03-19',\n",
              " 'last_modified_date': '2025-03-19'}"
            ]
          },
          "metadata": {},
          "execution_count": 37
        }
      ]
    },
    {
      "cell_type": "code",
      "source": [
        "retrieved_nodes[0].id_"
      ],
      "metadata": {
        "colab": {
          "base_uri": "https://localhost:8080/",
          "height": 35
        },
        "id": "3mKfQFnZs-vN",
        "outputId": "bd3ca0e6-a00e-4ee6-f979-d42186195948"
      },
      "execution_count": null,
      "outputs": [
        {
          "output_type": "execute_result",
          "data": {
            "text/plain": [
              "'66c10025-54bf-46e0-8b5d-c859329c786c'"
            ],
            "application/vnd.google.colaboratory.intrinsic+json": {
              "type": "string"
            }
          },
          "metadata": {},
          "execution_count": 38
        }
      ]
    },
    {
      "cell_type": "code",
      "source": [
        "retrieved_nodes[0].node_id"
      ],
      "metadata": {
        "colab": {
          "base_uri": "https://localhost:8080/",
          "height": 35
        },
        "id": "lxe204k4tBBI",
        "outputId": "de452cf6-77a9-4d01-bf1c-49c224c54a19"
      },
      "execution_count": null,
      "outputs": [
        {
          "output_type": "execute_result",
          "data": {
            "text/plain": [
              "'66c10025-54bf-46e0-8b5d-c859329c786c'"
            ],
            "application/vnd.google.colaboratory.intrinsic+json": {
              "type": "string"
            }
          },
          "metadata": {},
          "execution_count": 39
        }
      ]
    },
    {
      "cell_type": "code",
      "source": [
        "retrieved_nodes[0].node"
      ],
      "metadata": {
        "colab": {
          "base_uri": "https://localhost:8080/"
        },
        "id": "ICe66kw1tDX5",
        "outputId": "9aa7de61-a729-4067-9bab-78abcd153267"
      },
      "execution_count": null,
      "outputs": [
        {
          "output_type": "execute_result",
          "data": {
            "text/plain": [
              "TextNode(id_='66c10025-54bf-46e0-8b5d-c859329c786c', embedding=None, metadata={'file_path': '/content/corpus/Algebraic_extension.txt', 'file_name': 'Algebraic_extension.txt', 'file_type': 'text/plain', 'file_size': 3022, 'creation_date': '2025-03-19', 'last_modified_date': '2025-03-19'}, excluded_embed_metadata_keys=['file_name', 'file_type', 'file_size', 'creation_date', 'last_modified_date', 'last_accessed_date'], excluded_llm_metadata_keys=['file_name', 'file_type', 'file_size', 'creation_date', 'last_modified_date', 'last_accessed_date'], relationships={<NodeRelationship.SOURCE: '1'>: RelatedNodeInfo(node_id='f5a04cb3-5d9a-476b-bd59-154a8d1ba2a8', node_type='4', metadata={'file_path': '/content/corpus/Algebraic_extension.txt', 'file_name': 'Algebraic_extension.txt', 'file_type': 'text/plain', 'file_size': 3022, 'creation_date': '2025-03-19', 'last_modified_date': '2025-03-19'}, hash='72754c56c3203c7f3638fe1cada41709626e94c77847f93f01f5559c183393e6')}, metadata_template='{key}: {value}', metadata_separator='\\n', text=\"Title: Algebraic_extensionIn abstract algebra, a field extension L/K is called algebraic if every element of L is algebraic over K, i.e. if every element of L is a root of some non-zero polynomial with coefficients in K. Field extensions that are not algebraic, i.e. which contain transcendental elements, are called transcendental.\\n\\nFor example, the field extension R/Q, that is the field of real numbers as an extension of the field of rational numbers, is transcendental, while the field extensions C/R and Q()/Q are algebraic, where C is the field of complex numbers.\\n\\nAll transcendental extensions are of infinite degree. This in turn implies that all finite extensions are algebraic. The converse is not true however: there are infinite extensions which are algebraic.  For instance, the field of all algebraic numbers is an infinite algebraic extension of the rational numbers.\\n\\nLet E be an extension field of K, and a ∈ E. If a is algebraic over K, then K(a), the set of all polynomials in a with coefficients in K, is not only a ring but a field: K(a) is an algebraic extension of K which has finite degree over K. The converse is not true. Q[π] and Q[e] are fields but π and e are transcendental over Q.\\n\\nAn algebraically closed field F has no proper algebraic extensions, that is, no algebraic extensions E with F < E. An example is the field of complex numbers. Every field has an algebraic extension which is algebraically closed (called its algebraic closure), but proving this in general requires some form of the axiom of choice.\\n\\nAn extension L/K is algebraic if and only if every sub K-algebra of L is a field.\\n\\nProperties\\nThe class of algebraic extensions forms a distinguished class of field extensions, that is, the following three properties hold:\\n If E is an algebraic extension of F and F is an algebraic extension of K then E is an algebraic extension of K.\\n If E and F are algebraic extensions of K in a common overfield C, then the compositum EF is an algebraic extension of K.\\n If E is an algebraic extension of F and E > K > F then E is an algebraic extension of K.\\n\\nThese finitary results can be generalized using transfinite induction:\\n\\nThis fact, together with Zorn's lemma (applied to an appropriately chosen poset), establishes the existence of algebraic closures.\\n\\nGeneralizations\\n\\nModel theory generalizes the notion of algebraic extension to arbitrary theories: an embedding of M into N is called an algebraic extension if for every x in N there is a formula p with parameters in M, such that p(x) is true and the set\\n\\nis finite. It turns out that applying this definition to the theory of fields gives the usual definition of algebraic extension. The Galois group of N over M can again be defined as the group of automorphisms, and it turns out that most of the theory of Galois groups can be developed for the general case.\\n\\nSee also \\n Integral element\\n Lüroth's theorem\\n Galois extension\\n Separable extension\\n Normal extension\\n\\nNotes\\n\\nReferences\\n \\n \\n \\n \\n \\n \\n \\n\\nField extensions\", mimetype='text/plain', start_char_idx=0, end_char_idx=3017, metadata_seperator='\\n', text_template='{metadata_str}\\n\\n{content}')"
            ]
          },
          "metadata": {},
          "execution_count": 40
        }
      ]
    },
    {
      "cell_type": "code",
      "source": [
        "print(retrieved_nodes[0].text)"
      ],
      "metadata": {
        "colab": {
          "base_uri": "https://localhost:8080/"
        },
        "id": "4brtqiBrtFZ0",
        "outputId": "746c77e3-f653-4ab6-fa1b-7557223160f2"
      },
      "execution_count": null,
      "outputs": [
        {
          "output_type": "stream",
          "name": "stdout",
          "text": [
            "Title: Algebraic_extensionIn abstract algebra, a field extension L/K is called algebraic if every element of L is algebraic over K, i.e. if every element of L is a root of some non-zero polynomial with coefficients in K. Field extensions that are not algebraic, i.e. which contain transcendental elements, are called transcendental.\n",
            "\n",
            "For example, the field extension R/Q, that is the field of real numbers as an extension of the field of rational numbers, is transcendental, while the field extensions C/R and Q()/Q are algebraic, where C is the field of complex numbers.\n",
            "\n",
            "All transcendental extensions are of infinite degree. This in turn implies that all finite extensions are algebraic. The converse is not true however: there are infinite extensions which are algebraic.  For instance, the field of all algebraic numbers is an infinite algebraic extension of the rational numbers.\n",
            "\n",
            "Let E be an extension field of K, and a ∈ E. If a is algebraic over K, then K(a), the set of all polynomials in a with coefficients in K, is not only a ring but a field: K(a) is an algebraic extension of K which has finite degree over K. The converse is not true. Q[π] and Q[e] are fields but π and e are transcendental over Q.\n",
            "\n",
            "An algebraically closed field F has no proper algebraic extensions, that is, no algebraic extensions E with F < E. An example is the field of complex numbers. Every field has an algebraic extension which is algebraically closed (called its algebraic closure), but proving this in general requires some form of the axiom of choice.\n",
            "\n",
            "An extension L/K is algebraic if and only if every sub K-algebra of L is a field.\n",
            "\n",
            "Properties\n",
            "The class of algebraic extensions forms a distinguished class of field extensions, that is, the following three properties hold:\n",
            " If E is an algebraic extension of F and F is an algebraic extension of K then E is an algebraic extension of K.\n",
            " If E and F are algebraic extensions of K in a common overfield C, then the compositum EF is an algebraic extension of K.\n",
            " If E is an algebraic extension of F and E > K > F then E is an algebraic extension of K.\n",
            "\n",
            "These finitary results can be generalized using transfinite induction:\n",
            "\n",
            "This fact, together with Zorn's lemma (applied to an appropriately chosen poset), establishes the existence of algebraic closures.\n",
            "\n",
            "Generalizations\n",
            "\n",
            "Model theory generalizes the notion of algebraic extension to arbitrary theories: an embedding of M into N is called an algebraic extension if for every x in N there is a formula p with parameters in M, such that p(x) is true and the set\n",
            "\n",
            "is finite. It turns out that applying this definition to the theory of fields gives the usual definition of algebraic extension. The Galois group of N over M can again be defined as the group of automorphisms, and it turns out that most of the theory of Galois groups can be developed for the general case.\n",
            "\n",
            "See also \n",
            " Integral element\n",
            " Lüroth's theorem\n",
            " Galois extension\n",
            " Separable extension\n",
            " Normal extension\n",
            "\n",
            "Notes\n",
            "\n",
            "References\n",
            " \n",
            " \n",
            " \n",
            " \n",
            " \n",
            " \n",
            " \n",
            "\n",
            "Field extensions\n"
          ]
        }
      ]
    },
    {
      "cell_type": "code",
      "source": [
        "retrieved_nodes[1].metadata"
      ],
      "metadata": {
        "colab": {
          "base_uri": "https://localhost:8080/"
        },
        "id": "qc0Z3joYtMm7",
        "outputId": "7e440a87-218e-4115-9777-d412898dabb3"
      },
      "execution_count": null,
      "outputs": [
        {
          "output_type": "execute_result",
          "data": {
            "text/plain": [
              "{'file_path': '/content/corpus/Algebraic_number.txt',\n",
              " 'file_name': 'Algebraic_number.txt',\n",
              " 'file_type': 'text/plain',\n",
              " 'file_size': 7725,\n",
              " 'creation_date': '2025-03-19',\n",
              " 'last_modified_date': '2025-03-19'}"
            ]
          },
          "metadata": {},
          "execution_count": 42
        }
      ]
    },
    {
      "cell_type": "code",
      "source": [
        "print(retrieved_nodes[1].text)"
      ],
      "metadata": {
        "colab": {
          "base_uri": "https://localhost:8080/"
        },
        "id": "RQVWhTeXtN52",
        "outputId": "91e6ee8c-337c-41b5-b780-346bd60e7361"
      },
      "execution_count": null,
      "outputs": [
        {
          "output_type": "stream",
          "name": "stdout",
          "text": [
            "Title: Algebraic_numberAn algebraic number is a number that is a root of a non-zero polynomial in one variable with integer (or, equivalently, rational) coefficients.  For example, the golden ratio, , is an algebraic number, because it is a root of the polynomial . That is, it is a value for x for which the polynomial evaluates to zero.  As another example, the complex number  is algebraic because it is a root of .\n",
            "\n",
            "All integers and rational numbers are algebraic, as are all roots of integers. Real and complex numbers that are not algebraic, such as  and , are called transcendental numbers.\n",
            "\n",
            "The set  of algebraic numbers is countably infinite and has measure zero in the Lebesgue measure as a subset of the uncountable complex numbers. In that sense, almost all complex numbers are transcendental.\n",
            "\n",
            "Examples\n",
            " All rational numbers are algebraic. Any rational number, expressed as the quotient of an integer  and a (non-zero) natural number , satisfies the above definition, because  is the root of a non-zero polynomial, namely .\n",
            " Quadratic irrational numbers, irrational solutions of a quadratic polynomial  with integer coefficients , , and ), are algebraic numbers. If the quadratic polynomial is monic (), the roots are further qualified as quadratic integers.\n",
            " Gaussian integers, complex numbers  for which both  and  are integers, are also quadratic integers. This is because  and  are the two roots of the quadratic .\n",
            " A constructible number can be constructed from a given unit length using a straightedge and compass. It includes all quadratic irrational roots, all rational numbers, and all numbers that can be formed from these using the basic arithmetic operations and the extraction of square roots. (By designating cardinal directions for 1, −1, , and −, complex numbers such as  are considered constructible.)\n",
            " Any expression formed from algebraic numbers using any combination of the basic arithmetic operations and extraction of th roots gives another algebraic number.\n",
            " Polynomial roots that cannot be expressed in terms of the basic arithmetic operations and extraction of th roots (such as the roots of ). That happens with many but not all polynomials of degree 5 or higher.\n",
            " Values of trigonometric functions of rational multiples of  (except when undefined): for example, , , and  satisfy . This polynomial is irreducible over the rationals and so the three cosines are conjugate algebraic numbers. Likewise, , , , and  satisfy the irreducible polynomial , and so are conjugate algebraic integers.\n",
            " Some but not all irrational numbers are algebraic:\n",
            " The numbers  and  are algebraic since they are roots of polynomials  and , respectively.\n",
            " The golden ratio  is algebraic since it is a root of the polynomial .\n",
            " The numbers  and e are not algebraic numbers (see the Lindemann–Weierstrass theorem).\n",
            "\n",
            "Properties\n",
            "\n",
            "If a polynomial with rational coefficients is multiplied through by the least common denominator, the resulting polynomial with integer coefficients has the same roots.  This shows that an algebraic number can be equivalently defined as a root of a polynomial with either integer or rational coefficients.\n",
            "Given an algebraic number, there is a unique monic polynomial with rational coefficients of least degree that has the number as a root. This polynomial is called its minimal polynomial. If its minimal polynomial has degree , then the algebraic number is said to be of degree . For example, all rational numbers have degree 1, and an algebraic number of degree 2 is a quadratic irrational.\n",
            "The algebraic numbers are dense in the reals.  This follows from the fact they contain the rational numbers, which are dense in the reals themselves.\n",
            "The set of algebraic numbers is countable (enumerable), and therefore its Lebesgue measure as a subset of the complex numbers is 0 (essentially, the algebraic numbers take up no space in the complex numbers). That is to say, \"almost all\" real and complex numbers are transcendental.\n",
            "All algebraic numbers are computable and therefore definable and arithmetical.\n",
            "For real numbers  and , the complex number  is algebraic if and only if both  and  are algebraic.\n",
            "\n",
            "Field\n",
            "\n",
            "The sum, difference, product and quotient (if the denominator is nonzero) of two algebraic numbers is again algebraic, as can be demonstrated by using the resultant, and algebraic numbers thus form a field  (sometimes denoted by , but that usually denotes the adele ring). Every root of a polynomial equation whose coefficients are algebraic numbers is again algebraic. That can be rephrased by saying that the field of algebraic numbers is algebraically closed. In fact, it is the smallest algebraically-closed field containing the rationals and so it is called the algebraic closure of the rationals.\n"
          ]
        }
      ]
    },
    {
      "cell_type": "markdown",
      "source": [
        "## Step 4: Response Synthesis"
      ],
      "metadata": {
        "id": "6CeMLskdtSIl"
      }
    },
    {
      "cell_type": "code",
      "source": [
        "from llama_index.core import get_response_synthesizer"
      ],
      "metadata": {
        "id": "HrcGSAITxaRr"
      },
      "execution_count": null,
      "outputs": []
    },
    {
      "cell_type": "code",
      "source": [
        "# initialize the response synthesizer\n",
        "\n",
        "response_synthesizer = get_response_synthesizer(llm = llm)"
      ],
      "metadata": {
        "id": "OBv92TW5xdME"
      },
      "execution_count": null,
      "outputs": []
    },
    {
      "cell_type": "markdown",
      "source": [
        "## Step 5: Query Engine"
      ],
      "metadata": {
        "id": "i5TQSMOMxoE_"
      }
    },
    {
      "cell_type": "code",
      "source": [
        "# create a query engine using index, llm and response synthesizer\n",
        "\n",
        "query_engine = index.as_query_engine(\n",
        "                        llm = llm,\n",
        "                        response_synthesizer = response_synthesizer\n",
        "                    )\n"
      ],
      "metadata": {
        "id": "sfwOzY_5xkUP"
      },
      "execution_count": null,
      "outputs": []
    },
    {
      "cell_type": "code",
      "source": [
        "# query llm using query engine\n",
        "\n",
        "response = query_engine.query('Can an infinite extension be algebraic? Give an example.')\n"
      ],
      "metadata": {
        "id": "9f2bzILzx9Zh"
      },
      "execution_count": null,
      "outputs": []
    },
    {
      "cell_type": "code",
      "source": [
        "response.response"
      ],
      "metadata": {
        "colab": {
          "base_uri": "https://localhost:8080/",
          "height": 71
        },
        "id": "3qOUN_QRyJNu",
        "outputId": "20a0b0db-d4db-49f5-9266-97685aed67db"
      },
      "execution_count": null,
      "outputs": [
        {
          "output_type": "execute_result",
          "data": {
            "text/plain": [
              "'Yes, an infinite extension can be algebraic. An example of this is the field of all algebraic numbers, which is an infinite algebraic extension of the rational numbers.'"
            ],
            "application/vnd.google.colaboratory.intrinsic+json": {
              "type": "string"
            }
          },
          "metadata": {},
          "execution_count": 48
        }
      ]
    },
    {
      "cell_type": "code",
      "source": [
        "len(response.response)"
      ],
      "metadata": {
        "colab": {
          "base_uri": "https://localhost:8080/"
        },
        "id": "ZpvqA3OOyQGn",
        "outputId": "8503e27a-9a8a-412b-b620-a7071bd4f251"
      },
      "execution_count": null,
      "outputs": [
        {
          "output_type": "execute_result",
          "data": {
            "text/plain": [
              "168"
            ]
          },
          "metadata": {},
          "execution_count": 49
        }
      ]
    },
    {
      "cell_type": "code",
      "source": [
        "len(response.source_nodes)"
      ],
      "metadata": {
        "colab": {
          "base_uri": "https://localhost:8080/"
        },
        "id": "AqGwwJn7yRmN",
        "outputId": "06926ab2-2f44-4ffd-b77f-ef158d732c16"
      },
      "execution_count": null,
      "outputs": [
        {
          "output_type": "execute_result",
          "data": {
            "text/plain": [
              "2"
            ]
          },
          "metadata": {},
          "execution_count": 50
        }
      ]
    },
    {
      "cell_type": "code",
      "source": [
        "response.source_nodes[0].id_"
      ],
      "metadata": {
        "colab": {
          "base_uri": "https://localhost:8080/",
          "height": 35
        },
        "id": "ZkTXL0t2yUqx",
        "outputId": "51c621bd-fa89-43e3-f831-5c2f1f2fa60d"
      },
      "execution_count": null,
      "outputs": [
        {
          "output_type": "execute_result",
          "data": {
            "text/plain": [
              "'66c10025-54bf-46e0-8b5d-c859329c786c'"
            ],
            "application/vnd.google.colaboratory.intrinsic+json": {
              "type": "string"
            }
          },
          "metadata": {},
          "execution_count": 51
        }
      ]
    },
    {
      "cell_type": "code",
      "source": [
        "response.source_nodes[0].metadata"
      ],
      "metadata": {
        "colab": {
          "base_uri": "https://localhost:8080/"
        },
        "id": "M1qKesQ0yXyP",
        "outputId": "99a989d4-7199-4d89-bd57-671134d47fb3"
      },
      "execution_count": null,
      "outputs": [
        {
          "output_type": "execute_result",
          "data": {
            "text/plain": [
              "{'file_path': '/content/corpus/Algebraic_extension.txt',\n",
              " 'file_name': 'Algebraic_extension.txt',\n",
              " 'file_type': 'text/plain',\n",
              " 'file_size': 3022,\n",
              " 'creation_date': '2025-03-19',\n",
              " 'last_modified_date': '2025-03-19'}"
            ]
          },
          "metadata": {},
          "execution_count": 52
        }
      ]
    },
    {
      "cell_type": "code",
      "source": [
        "response.source_nodes[1].id_"
      ],
      "metadata": {
        "colab": {
          "base_uri": "https://localhost:8080/",
          "height": 35
        },
        "id": "yAJS9zbeyalw",
        "outputId": "61f128cb-61ac-4066-feff-c54236176beb"
      },
      "execution_count": null,
      "outputs": [
        {
          "output_type": "execute_result",
          "data": {
            "text/plain": [
              "'c24da429-416b-461b-a42a-88397263efa2'"
            ],
            "application/vnd.google.colaboratory.intrinsic+json": {
              "type": "string"
            }
          },
          "metadata": {},
          "execution_count": 53
        }
      ]
    },
    {
      "cell_type": "code",
      "source": [
        "response.source_nodes[1].metadata"
      ],
      "metadata": {
        "colab": {
          "base_uri": "https://localhost:8080/"
        },
        "id": "4WhhPfxeyb0K",
        "outputId": "c083a0f6-852d-4ab5-f617-e5ad6c67532e"
      },
      "execution_count": null,
      "outputs": [
        {
          "output_type": "execute_result",
          "data": {
            "text/plain": [
              "{'file_path': '/content/corpus/Algebraic_number.txt',\n",
              " 'file_name': 'Algebraic_number.txt',\n",
              " 'file_type': 'text/plain',\n",
              " 'file_size': 7725,\n",
              " 'creation_date': '2025-03-19',\n",
              " 'last_modified_date': '2025-03-19'}"
            ]
          },
          "metadata": {},
          "execution_count": 54
        }
      ]
    },
    {
      "cell_type": "markdown",
      "source": [
        "### Few More Examples"
      ],
      "metadata": {
        "id": "z2q9JDBX2CiH"
      }
    },
    {
      "cell_type": "code",
      "source": [
        "query1 = \"What is considered Berg's most widely known and beloved composition?\"\n",
        "print(query_engine.query(query1).response)"
      ],
      "metadata": {
        "colab": {
          "base_uri": "https://localhost:8080/"
        },
        "id": "G20VuqKsyfVQ",
        "outputId": "eaf1a25f-8946-4b95-a4bc-c8192e3ac9b9"
      },
      "execution_count": null,
      "outputs": [
        {
          "output_type": "stream",
          "name": "stdout",
          "text": [
            "Berg's most widely known and beloved composition is his Violin Concerto from 1935.\n"
          ]
        }
      ]
    },
    {
      "cell_type": "code",
      "source": [
        "query2 = \"What distinguishes atomic physics from nuclear physics?\"\n",
        "print(query_engine.query(query2).response)"
      ],
      "metadata": {
        "colab": {
          "base_uri": "https://localhost:8080/"
        },
        "id": "2mAT81L02SZF",
        "outputId": "c13984df-8baf-4f56-a713-cec3fd0ba7bb"
      },
      "execution_count": null,
      "outputs": [
        {
          "output_type": "stream",
          "name": "stdout",
          "text": [
            "Atomic physics deals with the atom as a system consisting of a nucleus and electrons, focusing on the study of atomic structure and the interaction between atoms. On the other hand, nuclear physics studies nuclear reactions and special properties of atomic nuclei.\n"
          ]
        }
      ]
    },
    {
      "cell_type": "code",
      "source": [
        "query3 = \"How do Roland Barthes and Michel Foucault challenge traditional views of authorship?\"\n",
        "print(query_engine.query(query3).response)"
      ],
      "metadata": {
        "colab": {
          "base_uri": "https://localhost:8080/"
        },
        "id": "Of0yWhho2p_0",
        "outputId": "e7537303-1e49-47d1-d02a-3a30dfed6e51"
      },
      "execution_count": null,
      "outputs": [
        {
          "output_type": "stream",
          "name": "stdout",
          "text": [
            "Roland Barthes and Michel Foucault challenge traditional views of authorship by suggesting that the author's identity and personal characteristics should not influence the interpretation of a written work. Barthes, in his essay \"Death of the Author,\" argues that it is the language of the text itself that speaks and determines meaning, not the author. He believes that every line of written text is a reflection of references from various traditions and that the text is never original. This perspective removes the author from the text and destroys the limits imposed by the idea of one authorial voice or one ultimate and universal meaning.\n",
            "\n",
            "Foucault, on the other hand, argues in his essay \"What is an author?\" that all authors are writers, but not all writers are authors. He introduces the concept of the \"author function,\" suggesting that an author exists only as a function of a written work, a part of its structure, but not necessarily part of the interpretive process. He warns of the risks of keeping the author's name in mind during interpretation, as it could affect the value and meaning with which one handles an interpretation. Both Barthes and Foucault suggest that the interpretation of a text should focus on the language as the \"author,\" rather than the individual who penned the text.\n"
          ]
        }
      ]
    },
    {
      "cell_type": "markdown",
      "source": [
        "This notebook demonstrates a complete RAG pipeline: ingesting Wikipedia articles, converting them to vector embeddings with OpenAI, creating a searchable index, and answering questions by retrieving relevant content and generating responses with GPT-4. The implementation showcases how LlamaIndex simplifies building retrieval-augmented generation systems."
      ],
      "metadata": {
        "id": "AzWqetp84Ia-"
      }
    }
  ]
}